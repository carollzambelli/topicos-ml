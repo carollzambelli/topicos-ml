{
 "cells": [
  {
   "cell_type": "code",
   "execution_count": 1,
   "metadata": {},
   "outputs": [],
   "source": [
    "import pandas as pd\n",
    "from datetime import date"
   ]
  },
  {
   "cell_type": "code",
   "execution_count": 2,
   "metadata": {},
   "outputs": [
    {
     "data": {
      "text/html": [
       "<div>\n",
       "<style scoped>\n",
       "    .dataframe tbody tr th:only-of-type {\n",
       "        vertical-align: middle;\n",
       "    }\n",
       "\n",
       "    .dataframe tbody tr th {\n",
       "        vertical-align: top;\n",
       "    }\n",
       "\n",
       "    .dataframe thead th {\n",
       "        text-align: right;\n",
       "    }\n",
       "</style>\n",
       "<table border=\"1\" class=\"dataframe\">\n",
       "  <thead>\n",
       "    <tr style=\"text-align: right;\">\n",
       "      <th></th>\n",
       "      <th>date</th>\n",
       "      <th>city</th>\n",
       "      <th>state/province</th>\n",
       "      <th>country</th>\n",
       "      <th>UFO_shape</th>\n",
       "      <th>length_of_encounter_seconds</th>\n",
       "      <th>described_duration_of_encounter</th>\n",
       "      <th>description</th>\n",
       "      <th>date_documented</th>\n",
       "      <th>latitude</th>\n",
       "      <th>longitude</th>\n",
       "    </tr>\n",
       "  </thead>\n",
       "  <tbody>\n",
       "    <tr>\n",
       "      <th>0</th>\n",
       "      <td>06-01-1910 15:00</td>\n",
       "      <td>wills point</td>\n",
       "      <td>tx</td>\n",
       "      <td>us</td>\n",
       "      <td>cigar</td>\n",
       "      <td>120</td>\n",
       "      <td>2 minutes</td>\n",
       "      <td>Cigar shaped object moving from West to East</td>\n",
       "      <td>04/16/2005</td>\n",
       "      <td>32.709167</td>\n",
       "      <td>-96.008056</td>\n",
       "    </tr>\n",
       "    <tr>\n",
       "      <th>1</th>\n",
       "      <td>06-11-1920 21:00</td>\n",
       "      <td>cicero</td>\n",
       "      <td>in</td>\n",
       "      <td>us</td>\n",
       "      <td>unknown</td>\n",
       "      <td>60</td>\n",
       "      <td>1 minute</td>\n",
       "      <td>((NUFORC Note:  Probable hoax.  Note date.  PD...</td>\n",
       "      <td>05/12/2009</td>\n",
       "      <td>40.123889</td>\n",
       "      <td>-86.013333</td>\n",
       "    </tr>\n",
       "    <tr>\n",
       "      <th>2</th>\n",
       "      <td>07-05-1929 14:00</td>\n",
       "      <td>buchanan  (or burns)</td>\n",
       "      <td>or</td>\n",
       "      <td>us</td>\n",
       "      <td>disk</td>\n",
       "      <td>60</td>\n",
       "      <td>1min</td>\n",
       "      <td>we were traveling east of burns&amp;#44clmbing up ...</td>\n",
       "      <td>08/16/2002</td>\n",
       "      <td>43.642500</td>\n",
       "      <td>-118.627500</td>\n",
       "    </tr>\n",
       "    <tr>\n",
       "      <th>3</th>\n",
       "      <td>06-01-1931 13:00</td>\n",
       "      <td>abilene</td>\n",
       "      <td>ks</td>\n",
       "      <td>us</td>\n",
       "      <td>disk</td>\n",
       "      <td>1800</td>\n",
       "      <td>30 min. approx.</td>\n",
       "      <td>This is a what my mother related to me regardi...</td>\n",
       "      <td>02/14/2006</td>\n",
       "      <td>38.917222</td>\n",
       "      <td>-97.213611</td>\n",
       "    </tr>\n",
       "    <tr>\n",
       "      <th>4</th>\n",
       "      <td>06-01-1939 20:00</td>\n",
       "      <td>waterloo</td>\n",
       "      <td>al</td>\n",
       "      <td>us</td>\n",
       "      <td>fireball</td>\n",
       "      <td>300</td>\n",
       "      <td>5 minutes</td>\n",
       "      <td>4 high school students see bright&amp;#44 ground-l...</td>\n",
       "      <td>02/21/2014</td>\n",
       "      <td>34.918056</td>\n",
       "      <td>-88.064167</td>\n",
       "    </tr>\n",
       "  </tbody>\n",
       "</table>\n",
       "</div>"
      ],
      "text/plain": [
       "               date                  city state/province country UFO_shape  \\\n",
       "0  06-01-1910 15:00           wills point             tx      us     cigar   \n",
       "1  06-11-1920 21:00                cicero             in      us   unknown   \n",
       "2  07-05-1929 14:00  buchanan  (or burns)             or      us      disk   \n",
       "3  06-01-1931 13:00               abilene             ks      us      disk   \n",
       "4  06-01-1939 20:00              waterloo             al      us  fireball   \n",
       "\n",
       "   length_of_encounter_seconds described_duration_of_encounter  \\\n",
       "0                          120                       2 minutes   \n",
       "1                           60                        1 minute   \n",
       "2                           60                            1min   \n",
       "3                         1800                 30 min. approx.   \n",
       "4                          300                       5 minutes   \n",
       "\n",
       "                                         description date_documented  \\\n",
       "0       Cigar shaped object moving from West to East      04/16/2005   \n",
       "1  ((NUFORC Note:  Probable hoax.  Note date.  PD...      05/12/2009   \n",
       "2  we were traveling east of burns&#44clmbing up ...      08/16/2002   \n",
       "3  This is a what my mother related to me regardi...      02/14/2006   \n",
       "4  4 high school students see bright&#44 ground-l...      02/21/2014   \n",
       "\n",
       "    latitude   longitude  \n",
       "0  32.709167  -96.008056  \n",
       "1  40.123889  -86.013333  \n",
       "2  43.642500 -118.627500  \n",
       "3  38.917222  -97.213611  \n",
       "4  34.918056  -88.064167  "
      ]
     },
     "execution_count": 2,
     "metadata": {},
     "output_type": "execute_result"
    }
   ],
   "source": [
    "df = pd.read_csv('ufo.txt')\n",
    "df.head()"
   ]
  },
  {
   "cell_type": "code",
   "execution_count": 3,
   "metadata": {},
   "outputs": [
    {
     "name": "stdout",
     "output_type": "stream",
     "text": [
      "<class 'pandas.core.frame.DataFrame'>\n",
      "RangeIndex: 347 entries, 0 to 346\n",
      "Data columns (total 11 columns):\n",
      " #   Column                           Non-Null Count  Dtype  \n",
      "---  ------                           --------------  -----  \n",
      " 0   date                             347 non-null    object \n",
      " 1   city                             347 non-null    object \n",
      " 2   state/province                   347 non-null    object \n",
      " 3   country                          347 non-null    object \n",
      " 4   UFO_shape                        347 non-null    object \n",
      " 5   length_of_encounter_seconds      347 non-null    int64  \n",
      " 6   described_duration_of_encounter  347 non-null    object \n",
      " 7   description                      347 non-null    object \n",
      " 8   date_documented                  347 non-null    object \n",
      " 9   latitude                         347 non-null    float64\n",
      " 10  longitude                        347 non-null    float64\n",
      "dtypes: float64(2), int64(1), object(8)\n",
      "memory usage: 29.9+ KB\n"
     ]
    }
   ],
   "source": [
    "df.info()"
   ]
  },
  {
   "cell_type": "code",
   "execution_count": 4,
   "metadata": {},
   "outputs": [],
   "source": [
    "# Note que o campo \"date\" e \"date_documented\" não foi carregado como um formato de data\n",
    "# sendo assim, temos que transformar\n",
    "df['date'] = pd.to_datetime(df['date'])\n",
    "df['date_documented'] = pd.to_datetime(df['date_documented'])"
   ]
  },
  {
   "cell_type": "code",
   "execution_count": 5,
   "metadata": {},
   "outputs": [
    {
     "name": "stdout",
     "output_type": "stream",
     "text": [
      "<class 'pandas.core.frame.DataFrame'>\n",
      "RangeIndex: 347 entries, 0 to 346\n",
      "Data columns (total 11 columns):\n",
      " #   Column                           Non-Null Count  Dtype         \n",
      "---  ------                           --------------  -----         \n",
      " 0   date                             347 non-null    datetime64[ns]\n",
      " 1   city                             347 non-null    object        \n",
      " 2   state/province                   347 non-null    object        \n",
      " 3   country                          347 non-null    object        \n",
      " 4   UFO_shape                        347 non-null    object        \n",
      " 5   length_of_encounter_seconds      347 non-null    int64         \n",
      " 6   described_duration_of_encounter  347 non-null    object        \n",
      " 7   description                      347 non-null    object        \n",
      " 8   date_documented                  347 non-null    datetime64[ns]\n",
      " 9   latitude                         347 non-null    float64       \n",
      " 10  longitude                        347 non-null    float64       \n",
      "dtypes: datetime64[ns](2), float64(2), int64(1), object(6)\n",
      "memory usage: 29.9+ KB\n"
     ]
    }
   ],
   "source": [
    "# Note a diferença\n",
    "df.info()"
   ]
  },
  {
   "cell_type": "code",
   "execution_count": 6,
   "metadata": {},
   "outputs": [],
   "source": [
    "# Qual a data máxima na base de dados (campo date)?"
   ]
  },
  {
   "cell_type": "code",
   "execution_count": 7,
   "metadata": {},
   "outputs": [],
   "source": [
    "# Qual a data mínima da base de dados (campo date)?"
   ]
  },
  {
   "cell_type": "code",
   "execution_count": 8,
   "metadata": {},
   "outputs": [],
   "source": [
    "# Quantos dias existem entre a data máxima e a data mínima?\n",
    "# R = 34523"
   ]
  },
  {
   "cell_type": "code",
   "execution_count": 9,
   "metadata": {},
   "outputs": [],
   "source": [
    "# crie uma coluna apenas com o ano"
   ]
  },
  {
   "cell_type": "code",
   "execution_count": 10,
   "metadata": {},
   "outputs": [],
   "source": [
    "# crie uma coluna apenas com a data"
   ]
  },
  {
   "cell_type": "code",
   "execution_count": 20,
   "metadata": {},
   "outputs": [],
   "source": [
    "# Quantas observações temos no ano de 2000\n",
    "#R = 12"
   ]
  },
  {
   "cell_type": "code",
   "execution_count": 28,
   "metadata": {},
   "outputs": [],
   "source": [
    "# Quantas anos únicas existem na base de dados?\n",
    "# R = 68"
   ]
  }
 ],
 "metadata": {
  "kernelspec": {
   "display_name": "Python 3",
   "language": "python",
   "name": "python3"
  },
  "language_info": {
   "codemirror_mode": {
    "name": "ipython",
    "version": 3
   },
   "file_extension": ".py",
   "mimetype": "text/x-python",
   "name": "python",
   "nbconvert_exporter": "python",
   "pygments_lexer": "ipython3",
   "version": "3.8.5"
  }
 },
 "nbformat": 4,
 "nbformat_minor": 4
}
