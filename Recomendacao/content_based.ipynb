{
 "cells": [
  {
   "cell_type": "code",
   "execution_count": 1,
   "metadata": {},
   "outputs": [],
   "source": [
    "import pandas as pd \n",
    "import numpy as np \n",
    "import ast\n",
    "from sklearn.feature_extraction.text import TfidfVectorizer\n",
    "from sklearn.metrics.pairwise import linear_kernel\n",
    "from sklearn.metrics.pairwise import cosine_similarity\n",
    "from sklearn.feature_extraction.text import CountVectorizer\n",
    "from ast import literal_eval"
   ]
  },
  {
   "cell_type": "code",
   "execution_count": 2,
   "metadata": {},
   "outputs": [],
   "source": [
    "df1=pd.read_csv('data/tmdb_5000_credits.csv')\n",
    "df2=pd.read_csv('data/tmdb_5000_movies.csv')"
   ]
  },
  {
   "cell_type": "code",
   "execution_count": 3,
   "metadata": {},
   "outputs": [],
   "source": [
    "df = pd.merge(\n",
    "    df2, df1.drop(['title'], axis=1),\n",
    "    how='left', left_on = 'id', right_on = 'movie_id'\n",
    ").drop(['movie_id' ], axis=1)"
   ]
  },
  {
   "cell_type": "code",
   "execution_count": 4,
   "metadata": {},
   "outputs": [
    {
     "data": {
      "text/html": [
       "<div>\n",
       "<style>\n",
       "    .dataframe thead tr:only-child th {\n",
       "        text-align: right;\n",
       "    }\n",
       "\n",
       "    .dataframe thead th {\n",
       "        text-align: left;\n",
       "    }\n",
       "\n",
       "    .dataframe tbody tr th {\n",
       "        vertical-align: top;\n",
       "    }\n",
       "</style>\n",
       "<table border=\"1\" class=\"dataframe\">\n",
       "  <thead>\n",
       "    <tr style=\"text-align: right;\">\n",
       "      <th></th>\n",
       "      <th>budget</th>\n",
       "      <th>genres</th>\n",
       "      <th>homepage</th>\n",
       "      <th>id</th>\n",
       "      <th>keywords</th>\n",
       "      <th>original_language</th>\n",
       "      <th>original_title</th>\n",
       "      <th>overview</th>\n",
       "      <th>popularity</th>\n",
       "      <th>production_companies</th>\n",
       "      <th>...</th>\n",
       "      <th>revenue</th>\n",
       "      <th>runtime</th>\n",
       "      <th>spoken_languages</th>\n",
       "      <th>status</th>\n",
       "      <th>tagline</th>\n",
       "      <th>title</th>\n",
       "      <th>vote_average</th>\n",
       "      <th>vote_count</th>\n",
       "      <th>cast</th>\n",
       "      <th>crew</th>\n",
       "    </tr>\n",
       "  </thead>\n",
       "  <tbody>\n",
       "    <tr>\n",
       "      <th>0</th>\n",
       "      <td>237000000</td>\n",
       "      <td>[{\"id\": 28, \"name\": \"Action\"}, {\"id\": 12, \"nam...</td>\n",
       "      <td>http://www.avatarmovie.com/</td>\n",
       "      <td>19995</td>\n",
       "      <td>[{\"id\": 1463, \"name\": \"culture clash\"}, {\"id\":...</td>\n",
       "      <td>en</td>\n",
       "      <td>Avatar</td>\n",
       "      <td>In the 22nd century, a paraplegic Marine is di...</td>\n",
       "      <td>150.437577</td>\n",
       "      <td>[{\"name\": \"Ingenious Film Partners\", \"id\": 289...</td>\n",
       "      <td>...</td>\n",
       "      <td>2787965087</td>\n",
       "      <td>162.0</td>\n",
       "      <td>[{\"iso_639_1\": \"en\", \"name\": \"English\"}, {\"iso...</td>\n",
       "      <td>Released</td>\n",
       "      <td>Enter the World of Pandora.</td>\n",
       "      <td>Avatar</td>\n",
       "      <td>7.2</td>\n",
       "      <td>11800</td>\n",
       "      <td>[{\"cast_id\": 242, \"character\": \"Jake Sully\", \"...</td>\n",
       "      <td>[{\"credit_id\": \"52fe48009251416c750aca23\", \"de...</td>\n",
       "    </tr>\n",
       "    <tr>\n",
       "      <th>1</th>\n",
       "      <td>300000000</td>\n",
       "      <td>[{\"id\": 12, \"name\": \"Adventure\"}, {\"id\": 14, \"...</td>\n",
       "      <td>http://disney.go.com/disneypictures/pirates/</td>\n",
       "      <td>285</td>\n",
       "      <td>[{\"id\": 270, \"name\": \"ocean\"}, {\"id\": 726, \"na...</td>\n",
       "      <td>en</td>\n",
       "      <td>Pirates of the Caribbean: At World's End</td>\n",
       "      <td>Captain Barbossa, long believed to be dead, ha...</td>\n",
       "      <td>139.082615</td>\n",
       "      <td>[{\"name\": \"Walt Disney Pictures\", \"id\": 2}, {\"...</td>\n",
       "      <td>...</td>\n",
       "      <td>961000000</td>\n",
       "      <td>169.0</td>\n",
       "      <td>[{\"iso_639_1\": \"en\", \"name\": \"English\"}]</td>\n",
       "      <td>Released</td>\n",
       "      <td>At the end of the world, the adventure begins.</td>\n",
       "      <td>Pirates of the Caribbean: At World's End</td>\n",
       "      <td>6.9</td>\n",
       "      <td>4500</td>\n",
       "      <td>[{\"cast_id\": 4, \"character\": \"Captain Jack Spa...</td>\n",
       "      <td>[{\"credit_id\": \"52fe4232c3a36847f800b579\", \"de...</td>\n",
       "    </tr>\n",
       "  </tbody>\n",
       "</table>\n",
       "<p>2 rows × 22 columns</p>\n",
       "</div>"
      ],
      "text/plain": [
       "      budget                                             genres  \\\n",
       "0  237000000  [{\"id\": 28, \"name\": \"Action\"}, {\"id\": 12, \"nam...   \n",
       "1  300000000  [{\"id\": 12, \"name\": \"Adventure\"}, {\"id\": 14, \"...   \n",
       "\n",
       "                                       homepage     id  \\\n",
       "0                   http://www.avatarmovie.com/  19995   \n",
       "1  http://disney.go.com/disneypictures/pirates/    285   \n",
       "\n",
       "                                            keywords original_language  \\\n",
       "0  [{\"id\": 1463, \"name\": \"culture clash\"}, {\"id\":...                en   \n",
       "1  [{\"id\": 270, \"name\": \"ocean\"}, {\"id\": 726, \"na...                en   \n",
       "\n",
       "                             original_title  \\\n",
       "0                                    Avatar   \n",
       "1  Pirates of the Caribbean: At World's End   \n",
       "\n",
       "                                            overview  popularity  \\\n",
       "0  In the 22nd century, a paraplegic Marine is di...  150.437577   \n",
       "1  Captain Barbossa, long believed to be dead, ha...  139.082615   \n",
       "\n",
       "                                production_companies  \\\n",
       "0  [{\"name\": \"Ingenious Film Partners\", \"id\": 289...   \n",
       "1  [{\"name\": \"Walt Disney Pictures\", \"id\": 2}, {\"...   \n",
       "\n",
       "                         ...                             revenue runtime  \\\n",
       "0                        ...                          2787965087   162.0   \n",
       "1                        ...                           961000000   169.0   \n",
       "\n",
       "                                    spoken_languages    status  \\\n",
       "0  [{\"iso_639_1\": \"en\", \"name\": \"English\"}, {\"iso...  Released   \n",
       "1           [{\"iso_639_1\": \"en\", \"name\": \"English\"}]  Released   \n",
       "\n",
       "                                          tagline  \\\n",
       "0                     Enter the World of Pandora.   \n",
       "1  At the end of the world, the adventure begins.   \n",
       "\n",
       "                                      title vote_average vote_count  \\\n",
       "0                                    Avatar          7.2      11800   \n",
       "1  Pirates of the Caribbean: At World's End          6.9       4500   \n",
       "\n",
       "                                                cast  \\\n",
       "0  [{\"cast_id\": 242, \"character\": \"Jake Sully\", \"...   \n",
       "1  [{\"cast_id\": 4, \"character\": \"Captain Jack Spa...   \n",
       "\n",
       "                                                crew  \n",
       "0  [{\"credit_id\": \"52fe48009251416c750aca23\", \"de...  \n",
       "1  [{\"credit_id\": \"52fe4232c3a36847f800b579\", \"de...  \n",
       "\n",
       "[2 rows x 22 columns]"
      ]
     },
     "execution_count": 4,
     "metadata": {},
     "output_type": "execute_result"
    }
   ],
   "source": [
    "df.head(2)"
   ]
  },
  {
   "cell_type": "markdown",
   "metadata": {},
   "source": [
    "##### A recomendação *Content Based*, nos fornece uma recomendação por similiaridade, ou seja, dado um item o modelo retorna items similares. Neste caso trabalharemos com duas perspectivas para definir similaridade:\n",
    "1. Baseado na Descrição (conteúdo: Movie Overviews\n",
    "2. Baseado em Metadados (conteúdo : Movie Cast, Crew, Keywords e Genre)\n",
    "\n",
    "A técnica utilizada para definir similaridade é a *Similariade dos Cossenos*, definida por:\n",
    "\n",
    "$cosine(x,y) = \\frac{x. y^\\intercal}{||x||.||y||} $\n"
   ]
  },
  {
   "cell_type": "markdown",
   "metadata": {},
   "source": [
    "#### Content Based - Descrição do Filme"
   ]
  },
  {
   "cell_type": "markdown",
   "metadata": {},
   "source": [
    "##### O primeiro passo é extrair do campo overview as palavras que realmente descrevem o filme. Isto será feito em dois passos:\n",
    "1. Extração das stop words, que são as palavras vazias. Em geral elas são artigos, preposições e/ou as palavras mais comuns de uma determinada língua.\n",
    "2. Aplicação da técnica *Term Frequency-Inverse Document Frequency (TF-IDF)*. Esta técnica é uma medida estatística que indica a importância de uma palavra de um documento em relação a uma coleção de documentos, baseada na sua frequência inversa.\n",
    "3. Com a importância de cada palavra em mãos, podemos então calcular a similaridade. Neste caso, usaremos a similaridade de cossenos "
   ]
  },
  {
   "cell_type": "code",
   "execution_count": 5,
   "metadata": {},
   "outputs": [],
   "source": [
    "tfidf = TfidfVectorizer(stop_words='english')"
   ]
  },
  {
   "cell_type": "code",
   "execution_count": 6,
   "metadata": {},
   "outputs": [],
   "source": [
    "df['overview'] = df['overview'].fillna('')"
   ]
  },
  {
   "cell_type": "code",
   "execution_count": 7,
   "metadata": {},
   "outputs": [],
   "source": [
    "tfidf_matrix = tfidf.fit_transform(df['overview'])"
   ]
  },
  {
   "cell_type": "code",
   "execution_count": 8,
   "metadata": {},
   "outputs": [
    {
     "data": {
      "text/plain": [
       "(4803, 20978)"
      ]
     },
     "execution_count": 8,
     "metadata": {},
     "output_type": "execute_result"
    }
   ],
   "source": [
    "tfidf_matrix.shape"
   ]
  },
  {
   "cell_type": "code",
   "execution_count": 9,
   "metadata": {},
   "outputs": [],
   "source": [
    "cosine_sim = linear_kernel(tfidf_matrix, tfidf_matrix)"
   ]
  },
  {
   "cell_type": "code",
   "execution_count": 10,
   "metadata": {},
   "outputs": [
    {
     "data": {
      "text/plain": [
       "array([[ 1.        ,  0.        ,  0.        , ...,  0.        ,\n",
       "         0.        ,  0.        ],\n",
       "       [ 0.        ,  1.        ,  0.        , ...,  0.02160533,\n",
       "         0.        ,  0.        ],\n",
       "       [ 0.        ,  0.        ,  1.        , ...,  0.01488159,\n",
       "         0.        ,  0.        ],\n",
       "       ..., \n",
       "       [ 0.        ,  0.02160533,  0.01488159, ...,  1.        ,\n",
       "         0.01609091,  0.00701914],\n",
       "       [ 0.        ,  0.        ,  0.        , ...,  0.01609091,\n",
       "         1.        ,  0.01171696],\n",
       "       [ 0.        ,  0.        ,  0.        , ...,  0.00701914,\n",
       "         0.01171696,  1.        ]])"
      ]
     },
     "execution_count": 10,
     "metadata": {},
     "output_type": "execute_result"
    }
   ],
   "source": [
    "cosine_sim"
   ]
  },
  {
   "cell_type": "markdown",
   "metadata": {},
   "source": [
    "##### cosine_sim retorna uma matriz indicando a similaridade entre os filmes"
   ]
  },
  {
   "cell_type": "code",
   "execution_count": 11,
   "metadata": {},
   "outputs": [],
   "source": [
    "# Precisamos associar os índices aos nomes dos filmes, uma vez que a recomendação será baseada no nome dos filmes.\n",
    "indices = pd.Series(df.index, index=df['title']).drop_duplicates()"
   ]
  },
  {
   "cell_type": "code",
   "execution_count": 12,
   "metadata": {},
   "outputs": [],
   "source": [
    "def recomendacao(title, df, indices, col, cosine_sim=cosine_sim):\n",
    "    idx = indices[title]\n",
    "    sim_scores = list(enumerate(cosine_sim[idx]))\n",
    "    sim_scores = sorted(sim_scores, key=lambda x: x[1], reverse=True)\n",
    "    sim_scores = sim_scores[1:11]\n",
    "    movie_indices = [i[0] for i in sim_scores]\n",
    "    return df[col].iloc[movie_indices]"
   ]
  },
  {
   "cell_type": "code",
   "execution_count": 13,
   "metadata": {},
   "outputs": [
    {
     "data": {
      "text/plain": [
       "3604                       Apollo 18\n",
       "2130                    The American\n",
       "634                       The Matrix\n",
       "1341            The Inhabited Island\n",
       "529                 Tears of the Sun\n",
       "1610                           Hanna\n",
       "311     The Adventures of Pluto Nash\n",
       "847                         Semi-Pro\n",
       "775                        Supernova\n",
       "2628             Blood and Chocolate\n",
       "Name: title, dtype: object"
      ]
     },
     "execution_count": 13,
     "metadata": {},
     "output_type": "execute_result"
    }
   ],
   "source": [
    "recomendacao('Avatar', df, indices, 'title')"
   ]
  },
  {
   "cell_type": "code",
   "execution_count": 14,
   "metadata": {},
   "outputs": [
    {
     "data": {
      "text/plain": [
       "2731     The Godfather: Part II\n",
       "1873                 Blood Ties\n",
       "867     The Godfather: Part III\n",
       "3727                 Easy Money\n",
       "3623                       Made\n",
       "3125                     Eulogy\n",
       "3896                   Sinister\n",
       "4506            The Maid's Room\n",
       "3783                        Joe\n",
       "2244      The Cold Light of Day\n",
       "Name: title, dtype: object"
      ]
     },
     "execution_count": 14,
     "metadata": {},
     "output_type": "execute_result"
    }
   ],
   "source": [
    "recomendacao('The Godfather', df, indices, 'title')"
   ]
  },
  {
   "cell_type": "markdown",
   "metadata": {},
   "source": [
    "#### Content Based - Metadados do Filme"
   ]
  },
  {
   "cell_type": "markdown",
   "metadata": {},
   "source": [
    "Diferente da etapa anterior, substiuiremos a descrição de cada filme, por uma \"descrição\" baseado em alguns metadados. Esses metadados nada mais são do ques as informações de elenco, keywords, gênero e diretores agregadas."
   ]
  },
  {
   "cell_type": "code",
   "execution_count": 15,
   "metadata": {},
   "outputs": [],
   "source": [
    "def filt_values(dataset, col, n, key):\n",
    "    df = dataset[col].fillna('[]').apply(ast.literal_eval)\n",
    "    df = df.apply(lambda x: [i[key] for i in x] if isinstance(x, list) else []).to_frame()\n",
    "    df[col] = df.apply(lambda x: [df[col][x][:n] for x in range(len(df))])\n",
    "    return df"
   ]
  },
  {
   "cell_type": "code",
   "execution_count": 16,
   "metadata": {},
   "outputs": [],
   "source": [
    "def get_director(dataset, col):\n",
    "    df = dataset[col].fillna('[]').apply(ast.literal_eval)\n",
    "    df = df.apply(lambda x: [i['name'] for i in x if i['job'] == 'Director'] if isinstance(x, list)  else []).to_frame()\n",
    "    return df"
   ]
  },
  {
   "cell_type": "code",
   "execution_count": 17,
   "metadata": {},
   "outputs": [],
   "source": [
    "df_item_based = pd.DataFrame()"
   ]
  },
  {
   "cell_type": "code",
   "execution_count": 18,
   "metadata": {},
   "outputs": [],
   "source": [
    "df_item_based['cast'] = filt_values(df, 'cast', 3, 'character').apply(lambda x: x.astype(str).str.lower())\n",
    "df_item_based['keywords'] = filt_values(df, 'keywords', 3, 'name').apply(lambda x: x.astype(str).str.lower())\n",
    "df_item_based['genres'] = filt_values(df, 'genres', 3, 'name').apply(lambda x: x.astype(str).str.lower())\n",
    "df_item_based['director'] = get_director(df, 'crew').apply(lambda x: x.astype(str).str.lower())"
   ]
  },
  {
   "cell_type": "code",
   "execution_count": 19,
   "metadata": {},
   "outputs": [
    {
     "data": {
      "text/html": [
       "<div>\n",
       "<style>\n",
       "    .dataframe thead tr:only-child th {\n",
       "        text-align: right;\n",
       "    }\n",
       "\n",
       "    .dataframe thead th {\n",
       "        text-align: left;\n",
       "    }\n",
       "\n",
       "    .dataframe tbody tr th {\n",
       "        vertical-align: top;\n",
       "    }\n",
       "</style>\n",
       "<table border=\"1\" class=\"dataframe\">\n",
       "  <thead>\n",
       "    <tr style=\"text-align: right;\">\n",
       "      <th></th>\n",
       "      <th>cast</th>\n",
       "      <th>keywords</th>\n",
       "      <th>genres</th>\n",
       "      <th>director</th>\n",
       "    </tr>\n",
       "  </thead>\n",
       "  <tbody>\n",
       "    <tr>\n",
       "      <th>0</th>\n",
       "      <td>['jake sully', 'neytiri', 'dr. grace augustine']</td>\n",
       "      <td>['culture clash', 'future', 'space war']</td>\n",
       "      <td>['action', 'adventure', 'fantasy']</td>\n",
       "      <td>['james cameron']</td>\n",
       "    </tr>\n",
       "    <tr>\n",
       "      <th>1</th>\n",
       "      <td>['captain jack sparrow', 'will turner', 'eliza...</td>\n",
       "      <td>['ocean', 'drug abuse', 'exotic island']</td>\n",
       "      <td>['adventure', 'fantasy', 'action']</td>\n",
       "      <td>['gore verbinski']</td>\n",
       "    </tr>\n",
       "    <tr>\n",
       "      <th>2</th>\n",
       "      <td>['james bond', 'blofeld', 'madeleine']</td>\n",
       "      <td>['spy', 'based on novel', 'secret agent']</td>\n",
       "      <td>['action', 'adventure', 'crime']</td>\n",
       "      <td>['sam mendes']</td>\n",
       "    </tr>\n",
       "    <tr>\n",
       "      <th>3</th>\n",
       "      <td>['bruce wayne / batman', 'alfred pennyworth', ...</td>\n",
       "      <td>['dc comics', 'crime fighter', 'terrorist']</td>\n",
       "      <td>['action', 'crime', 'drama']</td>\n",
       "      <td>['christopher nolan']</td>\n",
       "    </tr>\n",
       "    <tr>\n",
       "      <th>4</th>\n",
       "      <td>['john carter', 'dejah thoris', 'sola']</td>\n",
       "      <td>['based on novel', 'mars', 'medallion']</td>\n",
       "      <td>['action', 'adventure', 'science fiction']</td>\n",
       "      <td>['andrew stanton']</td>\n",
       "    </tr>\n",
       "  </tbody>\n",
       "</table>\n",
       "</div>"
      ],
      "text/plain": [
       "                                                cast  \\\n",
       "0   ['jake sully', 'neytiri', 'dr. grace augustine']   \n",
       "1  ['captain jack sparrow', 'will turner', 'eliza...   \n",
       "2             ['james bond', 'blofeld', 'madeleine']   \n",
       "3  ['bruce wayne / batman', 'alfred pennyworth', ...   \n",
       "4            ['john carter', 'dejah thoris', 'sola']   \n",
       "\n",
       "                                      keywords  \\\n",
       "0     ['culture clash', 'future', 'space war']   \n",
       "1     ['ocean', 'drug abuse', 'exotic island']   \n",
       "2    ['spy', 'based on novel', 'secret agent']   \n",
       "3  ['dc comics', 'crime fighter', 'terrorist']   \n",
       "4      ['based on novel', 'mars', 'medallion']   \n",
       "\n",
       "                                       genres               director  \n",
       "0          ['action', 'adventure', 'fantasy']      ['james cameron']  \n",
       "1          ['adventure', 'fantasy', 'action']     ['gore verbinski']  \n",
       "2            ['action', 'adventure', 'crime']         ['sam mendes']  \n",
       "3                ['action', 'crime', 'drama']  ['christopher nolan']  \n",
       "4  ['action', 'adventure', 'science fiction']     ['andrew stanton']  "
      ]
     },
     "execution_count": 19,
     "metadata": {},
     "output_type": "execute_result"
    }
   ],
   "source": [
    "df_item_based.head()"
   ]
  },
  {
   "cell_type": "markdown",
   "metadata": {},
   "source": [
    "Com a base pronta, aplicaremos os seguintes passos:\n",
    "\n",
    "1. CountVectorizer - retorna uma matriz com a contagem dos tokens de cada filme. Diferente do passo anterior, aqui não precisamos analisar a frequência inversa uma vez que jaá extraimos a informação necessária (O conteúdo foi transforma para lowercase para padronização).\n",
    "2. Similaridade dos cossenos"
   ]
  },
  {
   "cell_type": "code",
   "execution_count": 20,
   "metadata": {},
   "outputs": [],
   "source": [
    "df_item_based['soup'] = df_item_based['keywords'] + df_item_based['cast'] + df_item_based['director'] + df_item_based['genres']\n",
    "df_item_based['soup'] = df_item_based['soup'].apply(lambda x: ''.join(x)) "
   ]
  },
  {
   "cell_type": "code",
   "execution_count": 21,
   "metadata": {},
   "outputs": [
    {
     "data": {
      "text/html": [
       "<div>\n",
       "<style>\n",
       "    .dataframe thead tr:only-child th {\n",
       "        text-align: right;\n",
       "    }\n",
       "\n",
       "    .dataframe thead th {\n",
       "        text-align: left;\n",
       "    }\n",
       "\n",
       "    .dataframe tbody tr th {\n",
       "        vertical-align: top;\n",
       "    }\n",
       "</style>\n",
       "<table border=\"1\" class=\"dataframe\">\n",
       "  <thead>\n",
       "    <tr style=\"text-align: right;\">\n",
       "      <th></th>\n",
       "      <th>cast</th>\n",
       "      <th>keywords</th>\n",
       "      <th>genres</th>\n",
       "      <th>director</th>\n",
       "      <th>soup</th>\n",
       "    </tr>\n",
       "  </thead>\n",
       "  <tbody>\n",
       "    <tr>\n",
       "      <th>0</th>\n",
       "      <td>['jake sully', 'neytiri', 'dr. grace augustine']</td>\n",
       "      <td>['culture clash', 'future', 'space war']</td>\n",
       "      <td>['action', 'adventure', 'fantasy']</td>\n",
       "      <td>['james cameron']</td>\n",
       "      <td>['culture clash', 'future', 'space war']['jake...</td>\n",
       "    </tr>\n",
       "    <tr>\n",
       "      <th>1</th>\n",
       "      <td>['captain jack sparrow', 'will turner', 'eliza...</td>\n",
       "      <td>['ocean', 'drug abuse', 'exotic island']</td>\n",
       "      <td>['adventure', 'fantasy', 'action']</td>\n",
       "      <td>['gore verbinski']</td>\n",
       "      <td>['ocean', 'drug abuse', 'exotic island']['capt...</td>\n",
       "    </tr>\n",
       "    <tr>\n",
       "      <th>2</th>\n",
       "      <td>['james bond', 'blofeld', 'madeleine']</td>\n",
       "      <td>['spy', 'based on novel', 'secret agent']</td>\n",
       "      <td>['action', 'adventure', 'crime']</td>\n",
       "      <td>['sam mendes']</td>\n",
       "      <td>['spy', 'based on novel', 'secret agent']['jam...</td>\n",
       "    </tr>\n",
       "    <tr>\n",
       "      <th>3</th>\n",
       "      <td>['bruce wayne / batman', 'alfred pennyworth', ...</td>\n",
       "      <td>['dc comics', 'crime fighter', 'terrorist']</td>\n",
       "      <td>['action', 'crime', 'drama']</td>\n",
       "      <td>['christopher nolan']</td>\n",
       "      <td>['dc comics', 'crime fighter', 'terrorist']['b...</td>\n",
       "    </tr>\n",
       "    <tr>\n",
       "      <th>4</th>\n",
       "      <td>['john carter', 'dejah thoris', 'sola']</td>\n",
       "      <td>['based on novel', 'mars', 'medallion']</td>\n",
       "      <td>['action', 'adventure', 'science fiction']</td>\n",
       "      <td>['andrew stanton']</td>\n",
       "      <td>['based on novel', 'mars', 'medallion']['john ...</td>\n",
       "    </tr>\n",
       "  </tbody>\n",
       "</table>\n",
       "</div>"
      ],
      "text/plain": [
       "                                                cast  \\\n",
       "0   ['jake sully', 'neytiri', 'dr. grace augustine']   \n",
       "1  ['captain jack sparrow', 'will turner', 'eliza...   \n",
       "2             ['james bond', 'blofeld', 'madeleine']   \n",
       "3  ['bruce wayne / batman', 'alfred pennyworth', ...   \n",
       "4            ['john carter', 'dejah thoris', 'sola']   \n",
       "\n",
       "                                      keywords  \\\n",
       "0     ['culture clash', 'future', 'space war']   \n",
       "1     ['ocean', 'drug abuse', 'exotic island']   \n",
       "2    ['spy', 'based on novel', 'secret agent']   \n",
       "3  ['dc comics', 'crime fighter', 'terrorist']   \n",
       "4      ['based on novel', 'mars', 'medallion']   \n",
       "\n",
       "                                       genres               director  \\\n",
       "0          ['action', 'adventure', 'fantasy']      ['james cameron']   \n",
       "1          ['adventure', 'fantasy', 'action']     ['gore verbinski']   \n",
       "2            ['action', 'adventure', 'crime']         ['sam mendes']   \n",
       "3                ['action', 'crime', 'drama']  ['christopher nolan']   \n",
       "4  ['action', 'adventure', 'science fiction']     ['andrew stanton']   \n",
       "\n",
       "                                                soup  \n",
       "0  ['culture clash', 'future', 'space war']['jake...  \n",
       "1  ['ocean', 'drug abuse', 'exotic island']['capt...  \n",
       "2  ['spy', 'based on novel', 'secret agent']['jam...  \n",
       "3  ['dc comics', 'crime fighter', 'terrorist']['b...  \n",
       "4  ['based on novel', 'mars', 'medallion']['john ...  "
      ]
     },
     "execution_count": 21,
     "metadata": {},
     "output_type": "execute_result"
    }
   ],
   "source": [
    "df_item_based.head()"
   ]
  },
  {
   "cell_type": "code",
   "execution_count": 22,
   "metadata": {},
   "outputs": [],
   "source": [
    "count = CountVectorizer(analyzer='word',ngram_range=(1, 2),min_df=0, stop_words='english')\n",
    "count_matrix = count.fit_transform(df_item_based['soup'])"
   ]
  },
  {
   "cell_type": "code",
   "execution_count": 23,
   "metadata": {},
   "outputs": [],
   "source": [
    "cosine_sim2 = cosine_similarity(count_matrix, count_matrix)"
   ]
  },
  {
   "cell_type": "code",
   "execution_count": 24,
   "metadata": {},
   "outputs": [
    {
     "data": {
      "text/plain": [
       "array([[ 1.        ,  0.12903226,  0.13826023, ...,  0.        ,\n",
       "         0.        ,  0.        ],\n",
       "       [ 0.12903226,  1.        ,  0.06913011, ...,  0.        ,\n",
       "         0.        ,  0.        ],\n",
       "       [ 0.13826023,  0.06913011,  1.        , ...,  0.        ,\n",
       "         0.06415003,  0.        ],\n",
       "       ..., \n",
       "       [ 0.        ,  0.        ,  0.        , ...,  1.        ,\n",
       "         0.        ,  0.        ],\n",
       "       [ 0.        ,  0.        ,  0.06415003, ...,  0.        ,\n",
       "         1.        ,  0.        ],\n",
       "       [ 0.        ,  0.        ,  0.        , ...,  0.        ,\n",
       "         0.        ,  1.        ]])"
      ]
     },
     "execution_count": 24,
     "metadata": {},
     "output_type": "execute_result"
    }
   ],
   "source": [
    "cosine_sim2"
   ]
  },
  {
   "cell_type": "code",
   "execution_count": 25,
   "metadata": {},
   "outputs": [],
   "source": [
    "df_item_based['title'] = df['title']"
   ]
  },
  {
   "cell_type": "code",
   "execution_count": 26,
   "metadata": {},
   "outputs": [],
   "source": [
    "df_item_based = df_item_based.reset_index()\n",
    "indices = pd.Series(df_item_based.index, index=df_item_based['title'])"
   ]
  },
  {
   "cell_type": "code",
   "execution_count": 27,
   "metadata": {},
   "outputs": [
    {
     "data": {
      "text/plain": [
       "119                               Batman Begins\n",
       "65                              The Dark Knight\n",
       "4638                   Amidst the Devil's Wings\n",
       "299                              Batman Forever\n",
       "210                              Batman & Robin\n",
       "3854    Batman: The Dark Knight Returns, Part 2\n",
       "3966                                Point Blank\n",
       "1359                                     Batman\n",
       "2793                       The Killer Inside Me\n",
       "9            Batman v Superman: Dawn of Justice\n",
       "Name: title, dtype: object"
      ]
     },
     "execution_count": 27,
     "metadata": {},
     "output_type": "execute_result"
    }
   ],
   "source": [
    "recomendacao('The Dark Knight Rises',df_item_based, indices, 'title', cosine_sim=cosine_sim2)"
   ]
  },
  {
   "cell_type": "code",
   "execution_count": null,
   "metadata": {},
   "outputs": [],
   "source": []
  }
 ],
 "metadata": {
  "kernelspec": {
   "display_name": "Python 3",
   "language": "python",
   "name": "python3"
  },
  "language_info": {
   "codemirror_mode": {
    "name": "ipython",
    "version": 3
   },
   "file_extension": ".py",
   "mimetype": "text/x-python",
   "name": "python",
   "nbconvert_exporter": "python",
   "pygments_lexer": "ipython3",
   "version": "3.6.3"
  }
 },
 "nbformat": 4,
 "nbformat_minor": 4
}
